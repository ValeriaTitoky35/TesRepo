{
 "cells": [
  {
   "cell_type": "markdown",
   "id": "3f2aa75c-3068-4e7d-a9ae-e894a52364ab",
   "metadata": {},
   "source": [
    "Data Science Tools and Ecosystem"
   ]
  },
  {
   "cell_type": "markdown",
   "id": "726ae3d9-54b0-4390-94f2-d03b4b4aa44f",
   "metadata": {},
   "source": [
    "In this notebook, Data Science Tools and Ecosystem are summarized."
   ]
  },
  {
   "cell_type": "markdown",
   "id": "27e479f2-cf30-4451-8f0e-a3c17c599b17",
   "metadata": {},
   "source": [
    "Objectives:\n",
    "- Understand the fundamental concepts of data science and its workflow.\n",
    "- Identify and use essential data science tools such as Jupyter Notebook, Google Colab, and SQL.\n",
    "- Perform basic data manipulation and analysis using Pandas and NumPy.\n",
    "- Create visualizations with Matplotlib and Seaborn to interpret data insights.\n",
    "- Apply basic machine learning algorithms using Scikit-learn."
   ]
  },
  {
   "cell_type": "markdown",
   "id": "db7d6905-0675-471c-95f8-523cd83779ac",
   "metadata": {},
   "source": [
    "Some of the popular languages that Data Scientists use are:\n",
    "1. Python\n",
    "3. Java\n",
    "4. Scala\n",
    "5. Julia\n",
    "6. SQL"
   ]
  },
  {
   "cell_type": "markdown",
   "id": "e482ce15-6416-4f01-be76-7a32aa5a1c59",
   "metadata": {},
   "source": [
    "Some of the commonly used libraries used by Data Scientists include:\n",
    "\n",
    "1.  Pandas: Data manipulation and analysis in tables.\n",
    "2.  NumPy: Numerical operations and matrices.\n",
    "3.  Matplotlib: Basic graphics and visualizations.\n",
    "4.  Seaborn: More attractive statistical visualizations.\n",
    "5.  Scikit-learn: Machine learning algorithms.\n",
    "6.  TensorFlow and PyTorch: Neural networks and deep learning."
   ]
  },
  {
   "cell_type": "markdown",
   "id": "f201392d-c282-43bb-a488-94c63b097a2d",
   "metadata": {},
   "source": [
    "| Data Science Tools | \n",
    "|Jupiter Notebook    |\n",
    "|Google Colab        |\n",
    "|Tableau             |\n",
    "|Power BI            |\n",
    "|Apache Spark        |\n",
    "|SQL                 |\n"
   ]
  },
  {
   "cell_type": "markdown",
   "id": "fed8e03b-edb9-4ab5-a3d3-330f93dade8e",
   "metadata": {},
   "source": [
    "Below are a few examples of evaluating arithmetic expressions in Python:\n",
    "5 + 3\n",
    "10 - 2\n",
    "4 * 7\n",
    "20 / 5\n",
    "(3 + 2) * (8 - 5)"
   ]
  },
  {
   "cell_type": "code",
   "execution_count": 2,
   "id": "8f07dae4-cd90-48c0-ab31-31ff6cdcea21",
   "metadata": {},
   "outputs": [
    {
     "name": "stdin",
     "output_type": "stream",
     "text": [
      "Enter the first number:  30\n",
      "Enter the second number:  50\n"
     ]
    },
    {
     "name": "stdout",
     "output_type": "stream",
     "text": [
      "The addition is: 80.0\n",
      "The multiplication is: 1500.0\n"
     ]
    }
   ],
   "source": [
    "number1 = float(input(\"Enter the first number: \"))\n",
    "number2 = float(input(\"Enter the second number: \"))\n",
    "\n",
    "addition = number1 + number2\n",
    "multiplication = number1 * number2\n",
    "\n",
    "print(\"The addition is:\", addition)\n",
    "print(\"The multiplication is:\", multiplication)"
   ]
  },
  {
   "cell_type": "code",
   "execution_count": 3,
   "id": "65ca7c03-125a-4cec-b1bf-e0de81c14158",
   "metadata": {},
   "outputs": [
    {
     "name": "stdin",
     "output_type": "stream",
     "text": [
      "Enter the number of minutes:  40\n"
     ]
    },
    {
     "name": "stdout",
     "output_type": "stream",
     "text": [
      "40 minutes is 0.67 hours.\n"
     ]
    }
   ],
   "source": [
    "minutes = int(input(\"Enter the number of minutes: \"))\n",
    "\n",
    "hours = minutes / 60\n",
    "\n",
    "print(f\"{minutes} minutes is {hours:.2f} hours.\")"
   ]
  },
  {
   "cell_type": "markdown",
   "id": "6f5daa94-f9b6-4a0a-b6c2-effc0117a668",
   "metadata": {},
   "source": [
    "Author: Luisa Valeria Tito Pumaricra"
   ]
  }
 ],
 "metadata": {
  "kernelspec": {
   "display_name": "Python 3 (ipykernel)",
   "language": "python",
   "name": "python3"
  },
  "language_info": {
   "codemirror_mode": {
    "name": "ipython",
    "version": 3
   },
   "file_extension": ".py",
   "mimetype": "text/x-python",
   "name": "python",
   "nbconvert_exporter": "python",
   "pygments_lexer": "ipython3",
   "version": "3.12.8"
  }
 },
 "nbformat": 4,
 "nbformat_minor": 5
}
